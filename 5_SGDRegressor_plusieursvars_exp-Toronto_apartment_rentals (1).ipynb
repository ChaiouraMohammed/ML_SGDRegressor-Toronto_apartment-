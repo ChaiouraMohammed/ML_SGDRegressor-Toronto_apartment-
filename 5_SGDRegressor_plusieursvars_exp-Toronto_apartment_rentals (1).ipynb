{
 "cells": [
  {
   "cell_type": "markdown",
   "id": "5cb01082",
   "metadata": {},
   "source": [
    "# Dataset - information"
   ]
  },
  {
   "cell_type": "code",
   "execution_count": 1,
   "id": "8aecc95d",
   "metadata": {},
   "outputs": [
    {
     "data": {
      "text/plain": [
       "'\\nBedroom - How many bedrooms available\\nBathroom - How many bathrooms available\\nDen - Whether den is available or not\\nAddress - Location\\nLat - Lattitude\\nLong - Longitude\\nPrice - Apartment Rental price per month in CAD\\n'"
      ]
     },
     "execution_count": 1,
     "metadata": {},
     "output_type": "execute_result"
    }
   ],
   "source": [
    "# Exemple : Stochastic Gradient Descent Regressor avec plusieurs variables\n",
    "\n",
    "#lien : https://www.kaggle.com/datasets/rajacsp/toronto-apartment-price\n",
    "\n",
    "\"\"\"\n",
    "Bedroom - How many bedrooms available\n",
    "Bathroom - How many bathrooms available\n",
    "Den - Whether den is available or not\n",
    "Address - Location\n",
    "Lat - Lattitude\n",
    "Long - Longitude\n",
    "Price - Apartment Rental price per month in CAD\n",
    "\"\"\""
   ]
  },
  {
   "cell_type": "markdown",
   "id": "3e2cb9d4",
   "metadata": {},
   "source": [
    "# Importer les bibliothèques"
   ]
  },
  {
   "cell_type": "code",
   "execution_count": 20,
   "id": "6bffb69d",
   "metadata": {},
   "outputs": [],
   "source": [
    "# importer les bibliothèques\n",
    "import pandas as pd\n",
    "import numpy as np\n",
    "import matplotlib.pyplot as plt\n",
    "import seaborn as sns\n",
    "from sklearn.linear_model import SGDRegressor\n",
    "from sklearn.model_selection import train_test_split\n",
    "from sklearn.metrics import *"
   ]
  },
  {
   "cell_type": "markdown",
   "id": "a0acc35c",
   "metadata": {},
   "source": [
    "# Importer le Dataset"
   ]
  },
  {
   "cell_type": "code",
   "execution_count": 3,
   "id": "2ac92b82",
   "metadata": {},
   "outputs": [
    {
     "data": {
      "text/html": [
       "<div>\n",
       "<style scoped>\n",
       "    .dataframe tbody tr th:only-of-type {\n",
       "        vertical-align: middle;\n",
       "    }\n",
       "\n",
       "    .dataframe tbody tr th {\n",
       "        vertical-align: top;\n",
       "    }\n",
       "\n",
       "    .dataframe thead th {\n",
       "        text-align: right;\n",
       "    }\n",
       "</style>\n",
       "<table border=\"1\" class=\"dataframe\">\n",
       "  <thead>\n",
       "    <tr style=\"text-align: right;\">\n",
       "      <th></th>\n",
       "      <th>Bedroom</th>\n",
       "      <th>Bathroom</th>\n",
       "      <th>Den</th>\n",
       "      <th>Address</th>\n",
       "      <th>Lat</th>\n",
       "      <th>Long</th>\n",
       "      <th>Price</th>\n",
       "    </tr>\n",
       "  </thead>\n",
       "  <tbody>\n",
       "    <tr>\n",
       "      <th>0</th>\n",
       "      <td>2</td>\n",
       "      <td>2.0</td>\n",
       "      <td>0</td>\n",
       "      <td>3985 Grand Park Drive, 3985 Grand Park Dr, Mis...</td>\n",
       "      <td>43.581639</td>\n",
       "      <td>-79.648193</td>\n",
       "      <td>$2,450.00</td>\n",
       "    </tr>\n",
       "    <tr>\n",
       "      <th>1</th>\n",
       "      <td>1</td>\n",
       "      <td>1.0</td>\n",
       "      <td>1</td>\n",
       "      <td>361 Front St W, Toronto, ON M5V 3R5, Canada</td>\n",
       "      <td>43.643051</td>\n",
       "      <td>-79.391643</td>\n",
       "      <td>$2,150.00</td>\n",
       "    </tr>\n",
       "    <tr>\n",
       "      <th>2</th>\n",
       "      <td>1</td>\n",
       "      <td>1.0</td>\n",
       "      <td>0</td>\n",
       "      <td>89 McGill Street, Toronto, ON, M5B 0B1</td>\n",
       "      <td>43.660605</td>\n",
       "      <td>-79.378635</td>\n",
       "      <td>$1,950.00</td>\n",
       "    </tr>\n",
       "    <tr>\n",
       "      <th>3</th>\n",
       "      <td>2</td>\n",
       "      <td>2.0</td>\n",
       "      <td>0</td>\n",
       "      <td>10 York Street, Toronto, ON, M5J 0E1</td>\n",
       "      <td>43.641087</td>\n",
       "      <td>-79.381405</td>\n",
       "      <td>$2,900.00</td>\n",
       "    </tr>\n",
       "    <tr>\n",
       "      <th>4</th>\n",
       "      <td>1</td>\n",
       "      <td>1.0</td>\n",
       "      <td>0</td>\n",
       "      <td>80 St Patrick St, Toronto, ON M5T 2X6, Canada</td>\n",
       "      <td>43.652487</td>\n",
       "      <td>-79.389622</td>\n",
       "      <td>$1,800.00</td>\n",
       "    </tr>\n",
       "    <tr>\n",
       "      <th>...</th>\n",
       "      <td>...</td>\n",
       "      <td>...</td>\n",
       "      <td>...</td>\n",
       "      <td>...</td>\n",
       "      <td>...</td>\n",
       "      <td>...</td>\n",
       "      <td>...</td>\n",
       "    </tr>\n",
       "    <tr>\n",
       "      <th>1119</th>\n",
       "      <td>3</td>\n",
       "      <td>1.0</td>\n",
       "      <td>0</td>\n",
       "      <td>, L7S 1R7, Burlington, ON</td>\n",
       "      <td>43.325233</td>\n",
       "      <td>-79.802182</td>\n",
       "      <td>$3,000.00</td>\n",
       "    </tr>\n",
       "    <tr>\n",
       "      <th>1120</th>\n",
       "      <td>1</td>\n",
       "      <td>1.0</td>\n",
       "      <td>0</td>\n",
       "      <td>, oakville L6M3V5 ON, Canada</td>\n",
       "      <td>43.445426</td>\n",
       "      <td>-79.736833</td>\n",
       "      <td>$1,200.00</td>\n",
       "    </tr>\n",
       "    <tr>\n",
       "      <th>1121</th>\n",
       "      <td>1</td>\n",
       "      <td>1.0</td>\n",
       "      <td>0</td>\n",
       "      <td>Upper Beaches, Toronto, ON, Canada, M4C 1B4</td>\n",
       "      <td>43.683386</td>\n",
       "      <td>-79.309409</td>\n",
       "      <td>$1,800.00</td>\n",
       "    </tr>\n",
       "    <tr>\n",
       "      <th>1122</th>\n",
       "      <td>2</td>\n",
       "      <td>1.0</td>\n",
       "      <td>0</td>\n",
       "      <td>, Toronto M5B 2L7 ON, Canada</td>\n",
       "      <td>43.653636</td>\n",
       "      <td>-79.380873</td>\n",
       "      <td>$2,200.00</td>\n",
       "    </tr>\n",
       "    <tr>\n",
       "      <th>1123</th>\n",
       "      <td>1</td>\n",
       "      <td>1.0</td>\n",
       "      <td>0</td>\n",
       "      <td>561 Sherbourne St, Toronto, ON M4X 0A1, Canada</td>\n",
       "      <td>43.669931</td>\n",
       "      <td>-79.375463</td>\n",
       "      <td>$2,150.00</td>\n",
       "    </tr>\n",
       "  </tbody>\n",
       "</table>\n",
       "<p>1124 rows × 7 columns</p>\n",
       "</div>"
      ],
      "text/plain": [
       "      Bedroom  Bathroom  Den  \\\n",
       "0           2       2.0    0   \n",
       "1           1       1.0    1   \n",
       "2           1       1.0    0   \n",
       "3           2       2.0    0   \n",
       "4           1       1.0    0   \n",
       "...       ...       ...  ...   \n",
       "1119        3       1.0    0   \n",
       "1120        1       1.0    0   \n",
       "1121        1       1.0    0   \n",
       "1122        2       1.0    0   \n",
       "1123        1       1.0    0   \n",
       "\n",
       "                                                Address        Lat       Long  \\\n",
       "0     3985 Grand Park Drive, 3985 Grand Park Dr, Mis...  43.581639 -79.648193   \n",
       "1           361 Front St W, Toronto, ON M5V 3R5, Canada  43.643051 -79.391643   \n",
       "2                89 McGill Street, Toronto, ON, M5B 0B1  43.660605 -79.378635   \n",
       "3                  10 York Street, Toronto, ON, M5J 0E1  43.641087 -79.381405   \n",
       "4         80 St Patrick St, Toronto, ON M5T 2X6, Canada  43.652487 -79.389622   \n",
       "...                                                 ...        ...        ...   \n",
       "1119                          , L7S 1R7, Burlington, ON  43.325233 -79.802182   \n",
       "1120                       , oakville L6M3V5 ON, Canada  43.445426 -79.736833   \n",
       "1121        Upper Beaches, Toronto, ON, Canada, M4C 1B4  43.683386 -79.309409   \n",
       "1122                       , Toronto M5B 2L7 ON, Canada  43.653636 -79.380873   \n",
       "1123     561 Sherbourne St, Toronto, ON M4X 0A1, Canada  43.669931 -79.375463   \n",
       "\n",
       "          Price  \n",
       "0     $2,450.00  \n",
       "1     $2,150.00  \n",
       "2     $1,950.00  \n",
       "3     $2,900.00  \n",
       "4     $1,800.00  \n",
       "...         ...  \n",
       "1119  $3,000.00  \n",
       "1120  $1,200.00  \n",
       "1121  $1,800.00  \n",
       "1122  $2,200.00  \n",
       "1123  $2,150.00  \n",
       "\n",
       "[1124 rows x 7 columns]"
      ]
     },
     "execution_count": 3,
     "metadata": {},
     "output_type": "execute_result"
    }
   ],
   "source": [
    "# importer le dataset\n",
    "dataset = pd.read_csv(\"dataset_LR_Toronto_apartment_rentals_2018.csv\")\n",
    "dataset"
   ]
  },
  {
   "cell_type": "code",
   "execution_count": 4,
   "id": "e2610e4f",
   "metadata": {},
   "outputs": [
    {
     "name": "stdout",
     "output_type": "stream",
     "text": [
      "<class 'pandas.core.frame.DataFrame'>\n",
      "RangeIndex: 1124 entries, 0 to 1123\n",
      "Data columns (total 7 columns):\n",
      " #   Column    Non-Null Count  Dtype  \n",
      "---  ------    --------------  -----  \n",
      " 0   Bedroom   1124 non-null   int64  \n",
      " 1   Bathroom  1124 non-null   float64\n",
      " 2   Den       1124 non-null   int64  \n",
      " 3   Address   1124 non-null   object \n",
      " 4   Lat       1124 non-null   float64\n",
      " 5   Long      1124 non-null   float64\n",
      " 6   Price     1124 non-null   object \n",
      "dtypes: float64(3), int64(2), object(2)\n",
      "memory usage: 61.6+ KB\n"
     ]
    }
   ],
   "source": [
    "dataset.info()"
   ]
  },
  {
   "cell_type": "code",
   "execution_count": 5,
   "id": "58d50171",
   "metadata": {},
   "outputs": [
    {
     "data": {
      "text/html": [
       "<div>\n",
       "<style scoped>\n",
       "    .dataframe tbody tr th:only-of-type {\n",
       "        vertical-align: middle;\n",
       "    }\n",
       "\n",
       "    .dataframe tbody tr th {\n",
       "        vertical-align: top;\n",
       "    }\n",
       "\n",
       "    .dataframe thead th {\n",
       "        text-align: right;\n",
       "    }\n",
       "</style>\n",
       "<table border=\"1\" class=\"dataframe\">\n",
       "  <thead>\n",
       "    <tr style=\"text-align: right;\">\n",
       "      <th></th>\n",
       "      <th>Bedroom</th>\n",
       "      <th>Bathroom</th>\n",
       "      <th>Den</th>\n",
       "      <th>Lat</th>\n",
       "      <th>Long</th>\n",
       "    </tr>\n",
       "  </thead>\n",
       "  <tbody>\n",
       "    <tr>\n",
       "      <th>count</th>\n",
       "      <td>1124.000000</td>\n",
       "      <td>1124.000000</td>\n",
       "      <td>1124.000000</td>\n",
       "      <td>1124.000000</td>\n",
       "      <td>1124.000000</td>\n",
       "    </tr>\n",
       "    <tr>\n",
       "      <th>mean</th>\n",
       "      <td>1.370107</td>\n",
       "      <td>1.237544</td>\n",
       "      <td>0.153025</td>\n",
       "      <td>43.703532</td>\n",
       "      <td>-79.500326</td>\n",
       "    </tr>\n",
       "    <tr>\n",
       "      <th>std</th>\n",
       "      <td>0.553493</td>\n",
       "      <td>0.431997</td>\n",
       "      <td>0.360172</td>\n",
       "      <td>0.692689</td>\n",
       "      <td>1.760654</td>\n",
       "    </tr>\n",
       "    <tr>\n",
       "      <th>min</th>\n",
       "      <td>1.000000</td>\n",
       "      <td>1.000000</td>\n",
       "      <td>0.000000</td>\n",
       "      <td>42.985767</td>\n",
       "      <td>-114.082215</td>\n",
       "    </tr>\n",
       "    <tr>\n",
       "      <th>25%</th>\n",
       "      <td>1.000000</td>\n",
       "      <td>1.000000</td>\n",
       "      <td>0.000000</td>\n",
       "      <td>43.641355</td>\n",
       "      <td>-79.414319</td>\n",
       "    </tr>\n",
       "    <tr>\n",
       "      <th>50%</th>\n",
       "      <td>1.000000</td>\n",
       "      <td>1.000000</td>\n",
       "      <td>0.000000</td>\n",
       "      <td>43.650560</td>\n",
       "      <td>-79.387295</td>\n",
       "    </tr>\n",
       "    <tr>\n",
       "      <th>75%</th>\n",
       "      <td>2.000000</td>\n",
       "      <td>1.000000</td>\n",
       "      <td>0.000000</td>\n",
       "      <td>43.666613</td>\n",
       "      <td>-79.377198</td>\n",
       "    </tr>\n",
       "    <tr>\n",
       "      <th>max</th>\n",
       "      <td>3.000000</td>\n",
       "      <td>3.000000</td>\n",
       "      <td>1.000000</td>\n",
       "      <td>56.130366</td>\n",
       "      <td>-73.576385</td>\n",
       "    </tr>\n",
       "  </tbody>\n",
       "</table>\n",
       "</div>"
      ],
      "text/plain": [
       "           Bedroom     Bathroom          Den          Lat         Long\n",
       "count  1124.000000  1124.000000  1124.000000  1124.000000  1124.000000\n",
       "mean      1.370107     1.237544     0.153025    43.703532   -79.500326\n",
       "std       0.553493     0.431997     0.360172     0.692689     1.760654\n",
       "min       1.000000     1.000000     0.000000    42.985767  -114.082215\n",
       "25%       1.000000     1.000000     0.000000    43.641355   -79.414319\n",
       "50%       1.000000     1.000000     0.000000    43.650560   -79.387295\n",
       "75%       2.000000     1.000000     0.000000    43.666613   -79.377198\n",
       "max       3.000000     3.000000     1.000000    56.130366   -73.576385"
      ]
     },
     "execution_count": 5,
     "metadata": {},
     "output_type": "execute_result"
    }
   ],
   "source": [
    "dataset.describe()"
   ]
  },
  {
   "cell_type": "markdown",
   "id": "570230cb",
   "metadata": {},
   "source": [
    "# Visualisation des données"
   ]
  },
  {
   "cell_type": "code",
   "execution_count": 6,
   "id": "078cb985",
   "metadata": {},
   "outputs": [
    {
     "data": {
      "image/png": "[encoded data removed]",
      "text/plain": [
       "<Figure size 640x480 with 6 Axes>"
      ]
     },
     "metadata": {},
     "output_type": "display_data"
    }
   ],
   "source": [
    "# Mettre le résultat de toutes les colonnes dans un histogramme - matplotlib\n",
    "dataset.hist()\n",
    "plt.show()"
   ]
  },
  {
   "cell_type": "markdown",
   "id": "0e8ed45d",
   "metadata": {},
   "source": [
    "# Prétraitement"
   ]
  },
  {
   "cell_type": "code",
   "execution_count": 7,
   "id": "ba34054e",
   "metadata": {},
   "outputs": [],
   "source": [
    "# 1 - Les données manquantes (OK)"
   ]
  },
  {
   "cell_type": "code",
   "execution_count": 8,
   "id": "1d039c88",
   "metadata": {},
   "outputs": [
    {
     "data": {
      "text/html": [
       "<div>\n",
       "<style scoped>\n",
       "    .dataframe tbody tr th:only-of-type {\n",
       "        vertical-align: middle;\n",
       "    }\n",
       "\n",
       "    .dataframe tbody tr th {\n",
       "        vertical-align: top;\n",
       "    }\n",
       "\n",
       "    .dataframe thead th {\n",
       "        text-align: right;\n",
       "    }\n",
       "</style>\n",
       "<table border=\"1\" class=\"dataframe\">\n",
       "  <thead>\n",
       "    <tr style=\"text-align: right;\">\n",
       "      <th></th>\n",
       "      <th>Bedroom</th>\n",
       "      <th>Bathroom</th>\n",
       "      <th>Den</th>\n",
       "      <th>Address</th>\n",
       "      <th>Lat</th>\n",
       "      <th>Long</th>\n",
       "      <th>Price</th>\n",
       "      <th>house_price</th>\n",
       "    </tr>\n",
       "  </thead>\n",
       "  <tbody>\n",
       "    <tr>\n",
       "      <th>0</th>\n",
       "      <td>2</td>\n",
       "      <td>2.0</td>\n",
       "      <td>0</td>\n",
       "      <td>3985 Grand Park Drive, 3985 Grand Park Dr, Mis...</td>\n",
       "      <td>43.581639</td>\n",
       "      <td>-79.648193</td>\n",
       "      <td>$2,450.00</td>\n",
       "      <td>2,450</td>\n",
       "    </tr>\n",
       "    <tr>\n",
       "      <th>1</th>\n",
       "      <td>1</td>\n",
       "      <td>1.0</td>\n",
       "      <td>1</td>\n",
       "      <td>361 Front St W, Toronto, ON M5V 3R5, Canada</td>\n",
       "      <td>43.643051</td>\n",
       "      <td>-79.391643</td>\n",
       "      <td>$2,150.00</td>\n",
       "      <td>2,150</td>\n",
       "    </tr>\n",
       "    <tr>\n",
       "      <th>2</th>\n",
       "      <td>1</td>\n",
       "      <td>1.0</td>\n",
       "      <td>0</td>\n",
       "      <td>89 McGill Street, Toronto, ON, M5B 0B1</td>\n",
       "      <td>43.660605</td>\n",
       "      <td>-79.378635</td>\n",
       "      <td>$1,950.00</td>\n",
       "      <td>1,950</td>\n",
       "    </tr>\n",
       "    <tr>\n",
       "      <th>3</th>\n",
       "      <td>2</td>\n",
       "      <td>2.0</td>\n",
       "      <td>0</td>\n",
       "      <td>10 York Street, Toronto, ON, M5J 0E1</td>\n",
       "      <td>43.641087</td>\n",
       "      <td>-79.381405</td>\n",
       "      <td>$2,900.00</td>\n",
       "      <td>2,900</td>\n",
       "    </tr>\n",
       "    <tr>\n",
       "      <th>4</th>\n",
       "      <td>1</td>\n",
       "      <td>1.0</td>\n",
       "      <td>0</td>\n",
       "      <td>80 St Patrick St, Toronto, ON M5T 2X6, Canada</td>\n",
       "      <td>43.652487</td>\n",
       "      <td>-79.389622</td>\n",
       "      <td>$1,800.00</td>\n",
       "      <td>1,800</td>\n",
       "    </tr>\n",
       "    <tr>\n",
       "      <th>...</th>\n",
       "      <td>...</td>\n",
       "      <td>...</td>\n",
       "      <td>...</td>\n",
       "      <td>...</td>\n",
       "      <td>...</td>\n",
       "      <td>...</td>\n",
       "      <td>...</td>\n",
       "      <td>...</td>\n",
       "    </tr>\n",
       "    <tr>\n",
       "      <th>1119</th>\n",
       "      <td>3</td>\n",
       "      <td>1.0</td>\n",
       "      <td>0</td>\n",
       "      <td>, L7S 1R7, Burlington, ON</td>\n",
       "      <td>43.325233</td>\n",
       "      <td>-79.802182</td>\n",
       "      <td>$3,000.00</td>\n",
       "      <td>3,000</td>\n",
       "    </tr>\n",
       "    <tr>\n",
       "      <th>1120</th>\n",
       "      <td>1</td>\n",
       "      <td>1.0</td>\n",
       "      <td>0</td>\n",
       "      <td>, oakville L6M3V5 ON, Canada</td>\n",
       "      <td>43.445426</td>\n",
       "      <td>-79.736833</td>\n",
       "      <td>$1,200.00</td>\n",
       "      <td>1,200</td>\n",
       "    </tr>\n",
       "    <tr>\n",
       "      <th>1121</th>\n",
       "      <td>1</td>\n",
       "      <td>1.0</td>\n",
       "      <td>0</td>\n",
       "      <td>Upper Beaches, Toronto, ON, Canada, M4C 1B4</td>\n",
       "      <td>43.683386</td>\n",
       "      <td>-79.309409</td>\n",
       "      <td>$1,800.00</td>\n",
       "      <td>1,800</td>\n",
       "    </tr>\n",
       "    <tr>\n",
       "      <th>1122</th>\n",
       "      <td>2</td>\n",
       "      <td>1.0</td>\n",
       "      <td>0</td>\n",
       "      <td>, Toronto M5B 2L7 ON, Canada</td>\n",
       "      <td>43.653636</td>\n",
       "      <td>-79.380873</td>\n",
       "      <td>$2,200.00</td>\n",
       "      <td>2,200</td>\n",
       "    </tr>\n",
       "    <tr>\n",
       "      <th>1123</th>\n",
       "      <td>1</td>\n",
       "      <td>1.0</td>\n",
       "      <td>0</td>\n",
       "      <td>561 Sherbourne St, Toronto, ON M4X 0A1, Canada</td>\n",
       "      <td>43.669931</td>\n",
       "      <td>-79.375463</td>\n",
       "      <td>$2,150.00</td>\n",
       "      <td>2,150</td>\n",
       "    </tr>\n",
       "  </tbody>\n",
       "</table>\n",
       "<p>1124 rows × 8 columns</p>\n",
       "</div>"
      ],
      "text/plain": [
       "      Bedroom  Bathroom  Den  \\\n",
       "0           2       2.0    0   \n",
       "1           1       1.0    1   \n",
       "2           1       1.0    0   \n",
       "3           2       2.0    0   \n",
       "4           1       1.0    0   \n",
       "...       ...       ...  ...   \n",
       "1119        3       1.0    0   \n",
       "1120        1       1.0    0   \n",
       "1121        1       1.0    0   \n",
       "1122        2       1.0    0   \n",
       "1123        1       1.0    0   \n",
       "\n",
       "                                                Address        Lat       Long  \\\n",
       "0     3985 Grand Park Drive, 3985 Grand Park Dr, Mis...  43.581639 -79.648193   \n",
       "1           361 Front St W, Toronto, ON M5V 3R5, Canada  43.643051 -79.391643   \n",
       "2                89 McGill Street, Toronto, ON, M5B 0B1  43.660605 -79.378635   \n",
       "3                  10 York Street, Toronto, ON, M5J 0E1  43.641087 -79.381405   \n",
       "4         80 St Patrick St, Toronto, ON M5T 2X6, Canada  43.652487 -79.389622   \n",
       "...                                                 ...        ...        ...   \n",
       "1119                          , L7S 1R7, Burlington, ON  43.325233 -79.802182   \n",
       "1120                       , oakville L6M3V5 ON, Canada  43.445426 -79.736833   \n",
       "1121        Upper Beaches, Toronto, ON, Canada, M4C 1B4  43.683386 -79.309409   \n",
       "1122                       , Toronto M5B 2L7 ON, Canada  43.653636 -79.380873   \n",
       "1123     561 Sherbourne St, Toronto, ON M4X 0A1, Canada  43.669931 -79.375463   \n",
       "\n",
       "          Price house_price  \n",
       "0     $2,450.00       2,450  \n",
       "1     $2,150.00       2,150  \n",
       "2     $1,950.00       1,950  \n",
       "3     $2,900.00       2,900  \n",
       "4     $1,800.00       1,800  \n",
       "...         ...         ...  \n",
       "1119  $3,000.00       3,000  \n",
       "1120  $1,200.00       1,200  \n",
       "1121  $1,800.00       1,800  \n",
       "1122  $2,200.00       2,200  \n",
       "1123  $2,150.00       2,150  \n",
       "\n",
       "[1124 rows x 8 columns]"
      ]
     },
     "execution_count": 8,
     "metadata": {},
     "output_type": "execute_result"
    }
   ],
   "source": [
    "# 2 - Régularisation des données\n",
    "# 2-1 Supprimer le signe '$' depuis la collonne 'Price' et le ''.00'\n",
    "dataset['house_price'] = dataset['Price'].apply(lambda x:  str(x)[1:6])\n",
    "dataset"
   ]
  },
  {
   "cell_type": "code",
   "execution_count": 9,
   "id": "6fbc2bf3",
   "metadata": {},
   "outputs": [
    {
     "data": {
      "text/html": [
       "<div>\n",
       "<style scoped>\n",
       "    .dataframe tbody tr th:only-of-type {\n",
       "        vertical-align: middle;\n",
       "    }\n",
       "\n",
       "    .dataframe tbody tr th {\n",
       "        vertical-align: top;\n",
       "    }\n",
       "\n",
       "    .dataframe thead th {\n",
       "        text-align: right;\n",
       "    }\n",
       "</style>\n",
       "<table border=\"1\" class=\"dataframe\">\n",
       "  <thead>\n",
       "    <tr style=\"text-align: right;\">\n",
       "      <th></th>\n",
       "      <th>Bedroom</th>\n",
       "      <th>Bathroom</th>\n",
       "      <th>Den</th>\n",
       "      <th>Address</th>\n",
       "      <th>Lat</th>\n",
       "      <th>Long</th>\n",
       "      <th>Price</th>\n",
       "      <th>house_price</th>\n",
       "    </tr>\n",
       "  </thead>\n",
       "  <tbody>\n",
       "    <tr>\n",
       "      <th>0</th>\n",
       "      <td>2</td>\n",
       "      <td>2.0</td>\n",
       "      <td>0</td>\n",
       "      <td>3985 Grand Park Drive, 3985 Grand Park Dr, Mis...</td>\n",
       "      <td>43.581639</td>\n",
       "      <td>-79.648193</td>\n",
       "      <td>$2,450.00</td>\n",
       "      <td>2450</td>\n",
       "    </tr>\n",
       "    <tr>\n",
       "      <th>1</th>\n",
       "      <td>1</td>\n",
       "      <td>1.0</td>\n",
       "      <td>1</td>\n",
       "      <td>361 Front St W, Toronto, ON M5V 3R5, Canada</td>\n",
       "      <td>43.643051</td>\n",
       "      <td>-79.391643</td>\n",
       "      <td>$2,150.00</td>\n",
       "      <td>2150</td>\n",
       "    </tr>\n",
       "    <tr>\n",
       "      <th>2</th>\n",
       "      <td>1</td>\n",
       "      <td>1.0</td>\n",
       "      <td>0</td>\n",
       "      <td>89 McGill Street, Toronto, ON, M5B 0B1</td>\n",
       "      <td>43.660605</td>\n",
       "      <td>-79.378635</td>\n",
       "      <td>$1,950.00</td>\n",
       "      <td>1950</td>\n",
       "    </tr>\n",
       "    <tr>\n",
       "      <th>3</th>\n",
       "      <td>2</td>\n",
       "      <td>2.0</td>\n",
       "      <td>0</td>\n",
       "      <td>10 York Street, Toronto, ON, M5J 0E1</td>\n",
       "      <td>43.641087</td>\n",
       "      <td>-79.381405</td>\n",
       "      <td>$2,900.00</td>\n",
       "      <td>2900</td>\n",
       "    </tr>\n",
       "    <tr>\n",
       "      <th>4</th>\n",
       "      <td>1</td>\n",
       "      <td>1.0</td>\n",
       "      <td>0</td>\n",
       "      <td>80 St Patrick St, Toronto, ON M5T 2X6, Canada</td>\n",
       "      <td>43.652487</td>\n",
       "      <td>-79.389622</td>\n",
       "      <td>$1,800.00</td>\n",
       "      <td>1800</td>\n",
       "    </tr>\n",
       "    <tr>\n",
       "      <th>...</th>\n",
       "      <td>...</td>\n",
       "      <td>...</td>\n",
       "      <td>...</td>\n",
       "      <td>...</td>\n",
       "      <td>...</td>\n",
       "      <td>...</td>\n",
       "      <td>...</td>\n",
       "      <td>...</td>\n",
       "    </tr>\n",
       "    <tr>\n",
       "      <th>1119</th>\n",
       "      <td>3</td>\n",
       "      <td>1.0</td>\n",
       "      <td>0</td>\n",
       "      <td>, L7S 1R7, Burlington, ON</td>\n",
       "      <td>43.325233</td>\n",
       "      <td>-79.802182</td>\n",
       "      <td>$3,000.00</td>\n",
       "      <td>3000</td>\n",
       "    </tr>\n",
       "    <tr>\n",
       "      <th>1120</th>\n",
       "      <td>1</td>\n",
       "      <td>1.0</td>\n",
       "      <td>0</td>\n",
       "      <td>, oakville L6M3V5 ON, Canada</td>\n",
       "      <td>43.445426</td>\n",
       "      <td>-79.736833</td>\n",
       "      <td>$1,200.00</td>\n",
       "      <td>1200</td>\n",
       "    </tr>\n",
       "    <tr>\n",
       "      <th>1121</th>\n",
       "      <td>1</td>\n",
       "      <td>1.0</td>\n",
       "      <td>0</td>\n",
       "      <td>Upper Beaches, Toronto, ON, Canada, M4C 1B4</td>\n",
       "      <td>43.683386</td>\n",
       "      <td>-79.309409</td>\n",
       "      <td>$1,800.00</td>\n",
       "      <td>1800</td>\n",
       "    </tr>\n",
       "    <tr>\n",
       "      <th>1122</th>\n",
       "      <td>2</td>\n",
       "      <td>1.0</td>\n",
       "      <td>0</td>\n",
       "      <td>, Toronto M5B 2L7 ON, Canada</td>\n",
       "      <td>43.653636</td>\n",
       "      <td>-79.380873</td>\n",
       "      <td>$2,200.00</td>\n",
       "      <td>2200</td>\n",
       "    </tr>\n",
       "    <tr>\n",
       "      <th>1123</th>\n",
       "      <td>1</td>\n",
       "      <td>1.0</td>\n",
       "      <td>0</td>\n",
       "      <td>561 Sherbourne St, Toronto, ON M4X 0A1, Canada</td>\n",
       "      <td>43.669931</td>\n",
       "      <td>-79.375463</td>\n",
       "      <td>$2,150.00</td>\n",
       "      <td>2150</td>\n",
       "    </tr>\n",
       "  </tbody>\n",
       "</table>\n",
       "<p>1124 rows × 8 columns</p>\n",
       "</div>"
      ],
      "text/plain": [
       "      Bedroom  Bathroom  Den  \\\n",
       "0           2       2.0    0   \n",
       "1           1       1.0    1   \n",
       "2           1       1.0    0   \n",
       "3           2       2.0    0   \n",
       "4           1       1.0    0   \n",
       "...       ...       ...  ...   \n",
       "1119        3       1.0    0   \n",
       "1120        1       1.0    0   \n",
       "1121        1       1.0    0   \n",
       "1122        2       1.0    0   \n",
       "1123        1       1.0    0   \n",
       "\n",
       "                                                Address        Lat       Long  \\\n",
       "0     3985 Grand Park Drive, 3985 Grand Park Dr, Mis...  43.581639 -79.648193   \n",
       "1           361 Front St W, Toronto, ON M5V 3R5, Canada  43.643051 -79.391643   \n",
       "2                89 McGill Street, Toronto, ON, M5B 0B1  43.660605 -79.378635   \n",
       "3                  10 York Street, Toronto, ON, M5J 0E1  43.641087 -79.381405   \n",
       "4         80 St Patrick St, Toronto, ON M5T 2X6, Canada  43.652487 -79.389622   \n",
       "...                                                 ...        ...        ...   \n",
       "1119                          , L7S 1R7, Burlington, ON  43.325233 -79.802182   \n",
       "1120                       , oakville L6M3V5 ON, Canada  43.445426 -79.736833   \n",
       "1121        Upper Beaches, Toronto, ON, Canada, M4C 1B4  43.683386 -79.309409   \n",
       "1122                       , Toronto M5B 2L7 ON, Canada  43.653636 -79.380873   \n",
       "1123     561 Sherbourne St, Toronto, ON M4X 0A1, Canada  43.669931 -79.375463   \n",
       "\n",
       "          Price house_price  \n",
       "0     $2,450.00        2450  \n",
       "1     $2,150.00        2150  \n",
       "2     $1,950.00        1950  \n",
       "3     $2,900.00        2900  \n",
       "4     $1,800.00        1800  \n",
       "...         ...         ...  \n",
       "1119  $3,000.00        3000  \n",
       "1120  $1,200.00        1200  \n",
       "1121  $1,800.00        1800  \n",
       "1122  $2,200.00        2200  \n",
       "1123  $2,150.00        2150  \n",
       "\n",
       "[1124 rows x 8 columns]"
      ]
     },
     "execution_count": 9,
     "metadata": {},
     "output_type": "execute_result"
    }
   ],
   "source": [
    "# 2-2 Supprimer la virgule\n",
    "dataset['house_price'] = dataset['house_price'].str.replace(',','')\n",
    "dataset"
   ]
  },
  {
   "cell_type": "code",
   "execution_count": 10,
   "id": "9f6f94b3",
   "metadata": {},
   "outputs": [
    {
     "data": {
      "text/html": [
       "<div>\n",
       "<style scoped>\n",
       "    .dataframe tbody tr th:only-of-type {\n",
       "        vertical-align: middle;\n",
       "    }\n",
       "\n",
       "    .dataframe tbody tr th {\n",
       "        vertical-align: top;\n",
       "    }\n",
       "\n",
       "    .dataframe thead th {\n",
       "        text-align: right;\n",
       "    }\n",
       "</style>\n",
       "<table border=\"1\" class=\"dataframe\">\n",
       "  <thead>\n",
       "    <tr style=\"text-align: right;\">\n",
       "      <th></th>\n",
       "      <th>Bedroom</th>\n",
       "      <th>Bathroom</th>\n",
       "      <th>Den</th>\n",
       "      <th>house_price</th>\n",
       "    </tr>\n",
       "  </thead>\n",
       "  <tbody>\n",
       "    <tr>\n",
       "      <th>0</th>\n",
       "      <td>2</td>\n",
       "      <td>2.0</td>\n",
       "      <td>0</td>\n",
       "      <td>2450</td>\n",
       "    </tr>\n",
       "    <tr>\n",
       "      <th>1</th>\n",
       "      <td>1</td>\n",
       "      <td>1.0</td>\n",
       "      <td>1</td>\n",
       "      <td>2150</td>\n",
       "    </tr>\n",
       "    <tr>\n",
       "      <th>2</th>\n",
       "      <td>1</td>\n",
       "      <td>1.0</td>\n",
       "      <td>0</td>\n",
       "      <td>1950</td>\n",
       "    </tr>\n",
       "    <tr>\n",
       "      <th>3</th>\n",
       "      <td>2</td>\n",
       "      <td>2.0</td>\n",
       "      <td>0</td>\n",
       "      <td>2900</td>\n",
       "    </tr>\n",
       "    <tr>\n",
       "      <th>4</th>\n",
       "      <td>1</td>\n",
       "      <td>1.0</td>\n",
       "      <td>0</td>\n",
       "      <td>1800</td>\n",
       "    </tr>\n",
       "    <tr>\n",
       "      <th>...</th>\n",
       "      <td>...</td>\n",
       "      <td>...</td>\n",
       "      <td>...</td>\n",
       "      <td>...</td>\n",
       "    </tr>\n",
       "    <tr>\n",
       "      <th>1119</th>\n",
       "      <td>3</td>\n",
       "      <td>1.0</td>\n",
       "      <td>0</td>\n",
       "      <td>3000</td>\n",
       "    </tr>\n",
       "    <tr>\n",
       "      <th>1120</th>\n",
       "      <td>1</td>\n",
       "      <td>1.0</td>\n",
       "      <td>0</td>\n",
       "      <td>1200</td>\n",
       "    </tr>\n",
       "    <tr>\n",
       "      <th>1121</th>\n",
       "      <td>1</td>\n",
       "      <td>1.0</td>\n",
       "      <td>0</td>\n",
       "      <td>1800</td>\n",
       "    </tr>\n",
       "    <tr>\n",
       "      <th>1122</th>\n",
       "      <td>2</td>\n",
       "      <td>1.0</td>\n",
       "      <td>0</td>\n",
       "      <td>2200</td>\n",
       "    </tr>\n",
       "    <tr>\n",
       "      <th>1123</th>\n",
       "      <td>1</td>\n",
       "      <td>1.0</td>\n",
       "      <td>0</td>\n",
       "      <td>2150</td>\n",
       "    </tr>\n",
       "  </tbody>\n",
       "</table>\n",
       "<p>1124 rows × 4 columns</p>\n",
       "</div>"
      ],
      "text/plain": [
       "      Bedroom  Bathroom  Den house_price\n",
       "0           2       2.0    0        2450\n",
       "1           1       1.0    1        2150\n",
       "2           1       1.0    0        1950\n",
       "3           2       2.0    0        2900\n",
       "4           1       1.0    0        1800\n",
       "...       ...       ...  ...         ...\n",
       "1119        3       1.0    0        3000\n",
       "1120        1       1.0    0        1200\n",
       "1121        1       1.0    0        1800\n",
       "1122        2       1.0    0        2200\n",
       "1123        1       1.0    0        2150\n",
       "\n",
       "[1124 rows x 4 columns]"
      ]
     },
     "execution_count": 10,
     "metadata": {},
     "output_type": "execute_result"
    }
   ],
   "source": [
    "# 3 - La sélection des données : \n",
    "# on garde que les colonnes : Bedroom, Bathroom, Den, Price\n",
    "dataset = dataset.loc[: , ['Bedroom', 'Bathroom', 'Den', 'house_price']]\n",
    "#dataset = dataset.loc[: , ['Bedroom', 'house_price']]\n",
    "dataset"
   ]
  },
  {
   "cell_type": "markdown",
   "id": "9401be01",
   "metadata": {},
   "source": [
    "# Apprentissage"
   ]
  },
  {
   "cell_type": "code",
   "execution_count": 11,
   "id": "6d9ff1df",
   "metadata": {},
   "outputs": [],
   "source": [
    "# Préciser les X et Y\n",
    "X = dataset.iloc[:,:-1] # X contient toutes les colonnes sauf la dernière\n",
    "Y = dataset.iloc[:,-1] # Y présente la dernière colonne"
   ]
  },
  {
   "cell_type": "code",
   "execution_count": 12,
   "id": "07922670",
   "metadata": {},
   "outputs": [],
   "source": [
    "# sélectionner un algorithme (estimateur)\n",
    "model = SGDRegressor(alpha=0.001,max_iter=1000) "
   ]
  },
  {
   "cell_type": "code",
   "execution_count": 13,
   "id": "2a37f09d",
   "metadata": {},
   "outputs": [
    {
     "name": "stdout",
     "output_type": "stream",
     "text": [
      "Train set: (899, 3)\n",
      "Test set: (225, 3)\n"
     ]
    }
   ],
   "source": [
    "# slpit dataset (test et train)\n",
    "X_train, X_test, Y_train, Y_test = train_test_split(X,Y, test_size = 0.2, random_state=2)\n",
    "\n",
    "print('Train set:', X_train.shape)\n",
    "print('Test set:', X_test.shape)"
   ]
  },
  {
   "cell_type": "code",
   "execution_count": 14,
   "id": "08591a09",
   "metadata": {},
   "outputs": [
    {
     "data": {
      "text/plain": [
       "Text(0.5, 1.0, 'Test set')"
      ]
     },
     "execution_count": 14,
     "metadata": {},
     "output_type": "execute_result"
    },
    {
     "data": {
      "image/png": "[encoded data removed]",
      "text/plain": [
       "<Figure size 640x480 with 2 Axes>"
      ]
     },
     "metadata": {},
     "output_type": "display_data"
    }
   ],
   "source": [
    "# Visualizer dataset après split\n",
    "plt.figure()\n",
    "plt.subplot(121)\n",
    "plt.scatter(X_train.iloc[:,1], X_train.iloc[:,2], c='green')\n",
    "plt.title('Train set')\n",
    "plt.subplot(122)\n",
    "plt.scatter(X_test.iloc[:,1], X_test.iloc[:,2], c='red')\n",
    "plt.title('Test set')"
   ]
  },
  {
   "cell_type": "code",
   "execution_count": 15,
   "id": "bb9b4dc3",
   "metadata": {},
   "outputs": [
    {
     "data": {
      "text/plain": [
       "SGDRegressor(alpha=0.001)"
      ]
     },
     "execution_count": 15,
     "metadata": {},
     "output_type": "execute_result"
    }
   ],
   "source": [
    "# entrainer le modèle sur les données X, Y \n",
    "model.fit(X_train ,Y_train) #"
   ]
  },
  {
   "cell_type": "code",
   "execution_count": 16,
   "id": "44d6219f",
   "metadata": {},
   "outputs": [
    {
     "data": {
      "text/plain": [
       "0.24403325016580035"
      ]
     },
     "execution_count": 16,
     "metadata": {},
     "output_type": "execute_result"
    }
   ],
   "source": [
    "# évaluer le modèle \n",
    "model.score(X_test, Y_test)"
   ]
  },
  {
   "cell_type": "code",
   "execution_count": 17,
   "id": "142e2f33",
   "metadata": {},
   "outputs": [
    {
     "data": {
      "text/plain": [
       "array([2488.73800019, 1856.42695478, 2161.55496983, 1856.42695478,\n",
       "       2793.86601525, 2793.86601525, 3098.9940303 , 1856.42695478,\n",
       "       1856.42695478, 2793.86601525, 1856.42695478, 2780.43341522,\n",
       "       3098.9940303 , 2793.86601525, 2793.86601525, 1856.42695478,\n",
       "       1856.42695478, 1856.42695478, 1856.42695478, 3415.14955301,\n",
       "       2148.12236981, 1856.42695478, 2793.86601525, 2161.55496983,\n",
       "       2148.12236981, 1856.42695478, 1856.42695478, 1856.42695478,\n",
       "       1856.42695478, 2793.86601525, 3731.30507572, 2793.86601525,\n",
       "       2161.55496983, 2793.86601525, 2793.86601525, 2161.55496983,\n",
       "       1856.42695478, 1856.42695478, 1856.42695478, 2793.86601525,\n",
       "       1856.42695478, 1856.42695478, 1856.42695478, 2148.12236981,\n",
       "       1856.42695478, 2793.86601525, 1856.42695478, 1856.42695478,\n",
       "       2793.86601525, 2148.12236981, 2793.86601525, 2793.86601525,\n",
       "       2466.68298489, 1856.42695478, 1856.42695478, 2161.55496983,\n",
       "       2172.58247749, 1856.42695478, 1856.42695478, 1856.42695478,\n",
       "       1856.42695478, 2148.12236981, 1856.42695478, 1856.42695478,\n",
       "       2793.86601525, 2793.86601525, 2793.86601525, 2148.12236981,\n",
       "       3731.30507572, 1856.42695478, 1856.42695478, 1856.42695478,\n",
       "       2148.12236981, 2464.27789252, 2161.55496983, 1856.42695478,\n",
       "       2793.86601525, 1856.42695478, 1856.42695478, 1856.42695478,\n",
       "       1856.42695478, 2793.86601525, 1856.42695478, 1856.42695478,\n",
       "       2793.86601525, 1856.42695478, 1856.42695478, 1856.42695478,\n",
       "       1856.42695478, 1856.42695478, 2793.86601525, 1856.42695478,\n",
       "       2161.55496983, 1856.42695478, 1856.42695478, 1856.42695478,\n",
       "       2793.86601525, 1856.42695478, 2780.43341522, 1856.42695478,\n",
       "       1856.42695478, 1856.42695478, 2793.86601525, 1856.42695478,\n",
       "       1856.42695478, 1856.42695478, 1856.42695478, 1856.42695478,\n",
       "       1856.42695478, 1856.42695478, 2161.55496983, 2793.86601525,\n",
       "       1856.42695478, 1856.42695478, 2793.86601525, 1856.42695478,\n",
       "       2148.12236981, 1856.42695478, 2161.55496983, 1856.42695478,\n",
       "       2161.55496983, 1856.42695478, 2793.86601525, 2793.86601525,\n",
       "       1856.42695478, 1856.42695478, 1856.42695478, 1856.42695478,\n",
       "       1856.42695478, 2148.12236981, 1856.42695478, 2793.86601525,\n",
       "       2793.86601525, 2793.86601525, 2161.55496983, 2161.55496983,\n",
       "       3110.02153796, 2793.86601525, 3098.9940303 , 1856.42695478,\n",
       "       1856.42695478, 2148.12236981, 1856.42695478, 2161.55496983,\n",
       "       1856.42695478, 1856.42695478, 2793.86601525, 2161.55496983,\n",
       "       1856.42695478, 1856.42695478, 2793.86601525, 1856.42695478,\n",
       "       2161.55496983, 2477.71049254, 1856.42695478, 1856.42695478,\n",
       "       2793.86601525, 2161.55496983, 2148.12236981, 2161.55496983,\n",
       "       1856.42695478, 2148.12236981, 2161.55496983, 2161.55496983,\n",
       "       1856.42695478, 1856.42695478, 1856.42695478, 2161.55496983,\n",
       "       1856.42695478, 1856.42695478, 1856.42695478, 1856.42695478,\n",
       "       2793.86601525, 2466.68298489, 1856.42695478, 2161.55496983,\n",
       "       2148.12236981, 1856.42695478, 1856.42695478, 2161.55496983,\n",
       "       1856.42695478, 1856.42695478, 1856.42695478, 1856.42695478,\n",
       "       2148.12236981, 1856.42695478, 1856.42695478, 1856.42695478,\n",
       "       2782.8385076 , 1856.42695478, 2161.55496983, 2161.55496983,\n",
       "       1856.42695478, 1856.42695478, 1856.42695478, 1856.42695478,\n",
       "       1856.42695478, 2161.55496983, 2148.12236981, 1856.42695478,\n",
       "       2148.12236981, 2148.12236981, 1856.42695478, 2148.12236981,\n",
       "       1856.42695478, 1856.42695478, 1856.42695478, 1856.42695478,\n",
       "       2148.12236981, 2161.55496983, 1856.42695478, 2793.86601525,\n",
       "       1856.42695478, 1856.42695478, 2780.43341522, 1856.42695478,\n",
       "       1856.42695478, 1856.42695478, 1856.42695478, 2148.12236981,\n",
       "       1856.42695478, 3098.9940303 , 2793.86601525, 2793.86601525,\n",
       "       1856.42695478])"
      ]
     },
     "execution_count": 17,
     "metadata": {},
     "output_type": "execute_result"
    }
   ],
   "source": [
    "# utiliser le modèle\n",
    "prediction = model.predict(X_test)\n",
    "prediction"
   ]
  },
  {
   "cell_type": "code",
   "execution_count": 18,
   "id": "b9505fe8",
   "metadata": {},
   "outputs": [
    {
     "data": {
      "text/plain": [
       "array([305.12801506, 632.31104542, 291.69541503])"
      ]
     },
     "execution_count": 18,
     "metadata": {},
     "output_type": "execute_result"
    }
   ],
   "source": [
    "# les paramètres de la fonction :  Theta1\n",
    "model.coef_ # Theta1, Theta2, Theta3"
   ]
  },
  {
   "cell_type": "code",
   "execution_count": 19,
   "id": "c9b95c6f",
   "metadata": {},
   "outputs": [
    {
     "data": {
      "text/plain": [
       "array([918.9878943])"
      ]
     },
     "execution_count": 19,
     "metadata": {},
     "output_type": "execute_result"
    }
   ],
   "source": [
    "# les paramètres de la fonction :  Theta0\n",
    "model.intercept_ # Theta0"
   ]
  },
  {
   "cell_type": "raw",
   "id": "2ec61bc1",
   "metadata": {},
   "source": [
    "    Gestion d'erreur"
   ]
  },
  {
   "cell_type": "code",
   "execution_count": 29,
   "id": "f508cc31",
   "metadata": {},
   "outputs": [
    {
     "data": {
      "text/plain": [
       "225"
      ]
     },
     "execution_count": 29,
     "metadata": {},
     "output_type": "execute_result"
    }
   ],
   "source": [
    "len(Y_test)"
   ]
  },
  {
   "cell_type": "code",
   "execution_count": 33,
   "id": "45db33fe",
   "metadata": {},
   "outputs": [
    {
     "data": {
      "text/plain": [
       "225"
      ]
     },
     "execution_count": 33,
     "metadata": {},
     "output_type": "execute_result"
    }
   ],
   "source": [
    "len(prediction)"
   ]
  },
  {
   "cell_type": "code",
   "execution_count": 35,
   "id": "3e208076",
   "metadata": {},
   "outputs": [
    {
     "name": "stdout",
     "output_type": "stream",
     "text": [
      "L’erreur quadratique moyenne (MSE) :  485087.52830468136\n"
     ]
    }
   ],
   "source": [
    "print(\"L’erreur quadratique moyenne (MSE) : \",mean_squared_error(Y_test,prediction))"
   ]
  },
  {
   "cell_type": "code",
   "execution_count": 40,
   "id": "c5a9cb73",
   "metadata": {},
   "outputs": [
    {
     "name": "stdout",
     "output_type": "stream",
     "text": [
      "la racine de l’erreur quadratique moyenne (RMSE) :  696.4822526846476\n"
     ]
    }
   ],
   "source": [
    "print(\"la racine de l’erreur quadratique moyenne (RMSE) : \",np.sqrt(mean_squared_error(Y_test,prediction)))"
   ]
  },
  {
   "cell_type": "code",
   "execution_count": 42,
   "id": "c02a9a0c",
   "metadata": {},
   "outputs": [
    {
     "name": "stdout",
     "output_type": "stream",
     "text": [
      "R-squard (R2) :  0.24403325016580035\n"
     ]
    }
   ],
   "source": [
    "rSQ = r2_score(Y_test , prediction)\n",
    "print(\"R-squard (R2) : \", rSQ)"
   ]
  },
  {
   "cell_type": "code",
   "execution_count": null,
   "id": "3553bd7f",
   "metadata": {},
   "outputs": [],
   "source": []
  }
 ],
 "metadata": {
  "kernelspec": {
   "display_name": "Python 3 (ipykernel)",
   "language": "python",
   "name": "python3"
  },
  "language_info": {
   "codemirror_mode": {
    "name": "ipython",
    "version": 3
   },
   "file_extension": ".py",
   "mimetype": "text/x-python",
   "name": "python",
   "nbconvert_exporter": "python",
   "pygments_lexer": "ipython3",
   "version": "3.9.13"
  }
 },
 "nbformat": 4,
 "nbformat_minor": 5
}
